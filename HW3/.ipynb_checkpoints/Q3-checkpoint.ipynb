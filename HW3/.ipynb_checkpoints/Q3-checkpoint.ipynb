{
 "cells": [
  {
   "cell_type": "markdown",
   "metadata": {},
   "source": [
    "(a) The parameters of Gaussian Mixture Model (GMM) can be estimated via the EM algorithm. Show that the alternating algorithm for k-means (in Lec. 11) is a special case of the EM algo- rithm and show the corresponding objective functions for E-step and M-step."
   ]
  },
  {
   "cell_type": "markdown",
   "metadata": {},
   "source": [
    "K means:\n",
    "\n",
    "* Hard assign a data point to one particular cluster on convergence.\n",
    "* It makes use of the L2 norm when optimizing (Min {Theta} L2 norm point and its centroid coordinates).\n",
    "\n",
    "EM:\n",
    "\n",
    "* Soft assigns a point to clusters (so it give a probability of any point belonging to any centroid).\n",
    "* It doesn't depend on the L2 norm, but is based on the Expectation, i.e., the probability of the point belonging to a particular cluster. This makes K-means biased towards spherical clusters.\n"
   ]
  },
  {
   "cell_type": "markdown",
   "metadata": {},
   "source": [
    "(b) Download the Old Faithful Geyser Dataset. The data file contains 272 observations of (erup- tion time, waiting time). Treat each entry as a 2 dimensional feature vector. Parse and plot all data points on 2-D plane."
   ]
  },
  {
   "cell_type": "code",
   "execution_count": 19,
   "metadata": {
    "collapsed": true
   },
   "outputs": [],
   "source": [
    "import numpy as np\n",
    "import pandas as pd\n",
    "import matplotlib.pyplot as plt\n",
    "from scipy.stats import multivariate_normal as multi_n\n",
    "from random import randint\n",
    "import seaborn as sns\n",
    "\n",
    "%matplotlib inline"
   ]
  },
  {
   "cell_type": "code",
   "execution_count": 2,
   "metadata": {
    "collapsed": true
   },
   "outputs": [],
   "source": [
    "i = 0\n",
    "data = []\n",
    "for line in open('faithful.dat.txt'):\n",
    "    if i > 25:\n",
    "        line = line.strip('\\n')\n",
    "        l = [float(w) for w in line.split()]\n",
    "        data.append(l)\n",
    "    i += 1\n",
    "data = np.array(data)"
   ]
  },
  {
   "cell_type": "code",
   "execution_count": 40,
   "metadata": {},
   "outputs": [
    {
     "data": {
      "text/html": [
       "<div>\n",
       "<style>\n",
       "    .dataframe thead tr:only-child th {\n",
       "        text-align: right;\n",
       "    }\n",
       "\n",
       "    .dataframe thead th {\n",
       "        text-align: left;\n",
       "    }\n",
       "\n",
       "    .dataframe tbody tr th {\n",
       "        vertical-align: top;\n",
       "    }\n",
       "</style>\n",
       "<table border=\"1\" class=\"dataframe\">\n",
       "  <thead>\n",
       "    <tr style=\"text-align: right;\">\n",
       "      <th></th>\n",
       "      <th>eruptions</th>\n",
       "      <th>waiting</th>\n",
       "    </tr>\n",
       "  </thead>\n",
       "  <tbody>\n",
       "    <tr>\n",
       "      <th>0</th>\n",
       "      <td>3.600</td>\n",
       "      <td>79.0</td>\n",
       "    </tr>\n",
       "    <tr>\n",
       "      <th>1</th>\n",
       "      <td>1.800</td>\n",
       "      <td>54.0</td>\n",
       "    </tr>\n",
       "    <tr>\n",
       "      <th>2</th>\n",
       "      <td>3.333</td>\n",
       "      <td>74.0</td>\n",
       "    </tr>\n",
       "    <tr>\n",
       "      <th>3</th>\n",
       "      <td>2.283</td>\n",
       "      <td>62.0</td>\n",
       "    </tr>\n",
       "    <tr>\n",
       "      <th>4</th>\n",
       "      <td>4.533</td>\n",
       "      <td>85.0</td>\n",
       "    </tr>\n",
       "  </tbody>\n",
       "</table>\n",
       "</div>"
      ],
      "text/plain": [
       "   eruptions  waiting\n",
       "0      3.600     79.0\n",
       "1      1.800     54.0\n",
       "2      3.333     74.0\n",
       "3      2.283     62.0\n",
       "4      4.533     85.0"
      ]
     },
     "execution_count": 40,
     "metadata": {},
     "output_type": "execute_result"
    }
   ],
   "source": [
    "df = pd.DataFrame(data, columns= ['id','eruptions', 'waiting']).drop('id', axis = 1)\n",
    "df.head()"
   ]
  },
  {
   "cell_type": "code",
   "execution_count": 4,
   "metadata": {},
   "outputs": [
    {
     "data": {
      "text/plain": [
       "<matplotlib.text.Text at 0x114fcf668>"
      ]
     },
     "execution_count": 4,
     "metadata": {},
     "output_type": "execute_result"
    },
    {
     "data": {
      "image/png": "[encoded data removed]",
      "text/plain": [
       "<matplotlib.figure.Figure at 0x114e44080>"
      ]
     },
     "metadata": {},
     "output_type": "display_data"
    }
   ],
   "source": [
    "plt.figure(figsize = (10,7))\n",
    "plt.scatter(df.eruptions, df.waiting)\n",
    "plt.xlabel('Eruptions')\n",
    "plt.ylabel('waiting')"
   ]
  },
  {
   "cell_type": "markdown",
   "metadata": {},
   "source": [
    "(c) Implement a bimodal GMM model to fit all data points using EM algorithm. Explain the reasoning behind your termination criteria. For this problem, we assume the covariance matrix is spherical (i.e., it has the form of σ2 I for scalar σ) and you can randomly initialize Gaussian parameters. For evaluation purposes, please submit the following figures:\n",
    "* Plot the trajectories of two mean vectors in 2 dimensions (i.e., coordinatesvs. iteration).\n",
    "* Run your program for 50 times with different initial parameter guesses. Show the distri- bution of the total number of iterations needed for algorithm to converge."
   ]
  },
  {
   "cell_type": "code",
   "execution_count": 5,
   "metadata": {
    "collapsed": true
   },
   "outputs": [],
   "source": [
    "from sklearn.mixture import GaussianMixture as GM\n",
    "import warnings \n",
    "warnings.filterwarnings(\"ignore\")"
   ]
  },
  {
   "cell_type": "markdown",
   "metadata": {},
   "source": [
    "#### initial with random guesses"
   ]
  },
  {
   "cell_type": "code",
   "execution_count": 7,
   "metadata": {
    "collapsed": true
   },
   "outputs": [],
   "source": [
    "def rand(df, k):\n",
    "    rand_id = [[randint(0, len(df))] for i in range(k)]\n",
    "    u1 = np.array(df.iloc[rand_id[0]])[0]\n",
    "    u2 = np.array(df.iloc[rand_id[1]])[0]\n",
    "    v = df.var(axis=0)\n",
    "    \n",
    "    v1 = np.diag([v[0]]*2)\n",
    "    v2 = np.diag([v[1]]*2)\n",
    "    \n",
    "    p = np.random.uniform(0,1)\n",
    "    \n",
    "    return u1, u2, v1, v2, p"
   ]
  },
  {
   "cell_type": "code",
   "execution_count": 8,
   "metadata": {},
   "outputs": [],
   "source": [
    "def product(ls, df):\n",
    "    answer = []\n",
    "    for i in range(len(df)):\n",
    "        a = df.iloc[i] * ls[i]\n",
    "        answer.append(a)\n",
    "        #print(np.array(df.iloc[i]) , ls[i] ,np.array(a) )\n",
    "    return np.sum(answer, axis = 0)"
   ]
  },
  {
   "cell_type": "code",
   "execution_count": 9,
   "metadata": {
    "collapsed": true
   },
   "outputs": [],
   "source": [
    "u1, u2, v1, v2, p = rand(df,2)"
   ]
  },
  {
   "cell_type": "code",
   "execution_count": 10,
   "metadata": {
    "collapsed": true
   },
   "outputs": [],
   "source": [
    "from scipy.stats import multivariate_normal as multi_n"
   ]
  },
  {
   "cell_type": "code",
   "execution_count": 11,
   "metadata": {},
   "outputs": [
    {
     "data": {
      "text/plain": [
       "array([3, 7])"
      ]
     },
     "execution_count": 11,
     "metadata": {},
     "output_type": "execute_result"
    }
   ],
   "source": [
    "np.sum([[1,2],[3,4]], axis=1)"
   ]
  },
  {
   "cell_type": "code",
   "execution_count": 69,
   "metadata": {},
   "outputs": [],
   "source": [
    "def MyGM(df,k):\n",
    "    \n",
    "    df = df.copy()\n",
    "    \n",
    "    u1, u2, v1, v2, p = rand(df,k)\n",
    "\n",
    "    N = len(df)\n",
    "\n",
    "    c = []\n",
    "\n",
    "    e = 1\n",
    "\n",
    "    last = np.array([u1, u2])\n",
    "\n",
    "    max_iter = 50\n",
    "\n",
    "    n_iter = 0\n",
    "\n",
    "    while abs(e) > 0.005 and n_iter < max_iter:\n",
    "\n",
    "        #E steps\n",
    "\n",
    "        resp = []\n",
    "        for i in range(N):\n",
    "            y = df.iloc[i] \n",
    "            r = p*multi_n.pdf(y, u2, v2)/((1 - p)*multi_n.pdf(y, u1, v1) + \n",
    "                                      p*multi_n.pdf(y, u2, v2))\n",
    "\n",
    "            resp.append(r)\n",
    "\n",
    "        resp = np.array(resp)\n",
    "\n",
    "        #M steps\n",
    "\n",
    "        u1 = product(1 - resp, df)/np.sum(1 - resp)\n",
    "        v1 = product(1 - resp, (df - u1)**2)/np.sum(1 - resp)\n",
    "\n",
    "        u2 = product(resp, df)/np.sum(resp)\n",
    "        v2 = product(resp, (df - u1)**2)/np.sum(resp)\n",
    "\n",
    "        p = np.sum(resp)/N\n",
    "\n",
    "        c.append([u1, u2, v1, v2])\n",
    "\n",
    "        e = np.sum(last - np.array([u1, u2]))\n",
    "\n",
    "        last = np.array([u1, u2])\n",
    "        n_iter += 1\n",
    "\n",
    "    return c, n_iter\n",
    "\n",
    "mean_path , n = MyGM(df,2)"
   ]
  },
  {
   "cell_type": "code",
   "execution_count": 76,
   "metadata": {},
   "outputs": [
    {
     "data": {
      "image/png": "[encoded data removed]",
      "text/plain": [
       "<matplotlib.figure.Figure at 0x119f10b70>"
      ]
     },
     "metadata": {},
     "output_type": "display_data"
    }
   ],
   "source": [
    "plt.figure(figsize = (12,8))\n",
    "\n",
    "plt.scatter(df.eruptions, df.waiting, s= 15, c = 'grey')\n",
    "plt.xlabel('Eruptions')\n",
    "plt.ylabel('waiting')\n",
    "\n",
    "size = 30\n",
    "for z in mean_path:\n",
    "    plt.scatter(z[0][0], z[0][1], s = size , c = 'red', edgecolors= 'black')\n",
    "    plt.scatter(z[1][0], z[1][1],  s = size ,c = 'green', edgecolors= 'black')\n",
    "    size += 15"
   ]
  },
  {
   "cell_type": "code",
   "execution_count": 32,
   "metadata": {},
   "outputs": [
    {
     "data": {
      "text/plain": [
       "<matplotlib.text.Text at 0x11662c9b0>"
      ]
     },
     "execution_count": 32,
     "metadata": {},
     "output_type": "execute_result"
    },
    {
     "data": {
      "image/png": "[encoded data removed]",
      "text/plain": [
       "<matplotlib.figure.Figure at 0x11673c668>"
      ]
     },
     "metadata": {},
     "output_type": "display_data"
    }
   ],
   "source": [
    "plt.figure(figsize = (10,8))\n",
    "iter_dist = list(map(lambda x: MyGM(df,2)[1], list(range(50))))\n",
    "sns.distplot(iter_dist, bins = 10)\n",
    "plt.xlabel('Number of iterations')"
   ]
  },
  {
   "cell_type": "markdown",
   "metadata": {},
   "source": [
    "(d) Repeat the task in (c) but with the initial guesses of the parameters generated from the fol- lowing process:\n",
    "• Run a k-means algorithm over all the data points with K = 2 and label each point with one of the two clusters.\n",
    "• Estimate the first guess of the mean and covariance matrices using maximum likelihood over the labeled data points."
   ]
  },
  {
   "cell_type": "code",
   "execution_count": 33,
   "metadata": {
    "collapsed": true
   },
   "outputs": [],
   "source": [
    "from sklearn.cluster import KMeans"
   ]
  },
  {
   "cell_type": "code",
   "execution_count": 39,
   "metadata": {},
   "outputs": [
    {
     "data": {
      "text/plain": [
       "array([[   1.30272833,   13.97780785,    0.51418933],\n",
       "       [  13.97780785,  184.82331235,    5.95832429],\n",
       "       [   0.51418933,    5.95832429,    0.23334057]])"
      ]
     },
     "execution_count": 39,
     "metadata": {},
     "output_type": "execute_result"
    }
   ],
   "source": [
    "np.cov(df.T)"
   ]
  },
  {
   "cell_type": "code",
   "execution_count": 61,
   "metadata": {},
   "outputs": [],
   "source": [
    "def km_est(df1):\n",
    "    df = df1.copy()\n",
    "    km = KMeans(n_clusters = 2).fit(df)\n",
    "    df['label'] = km.labels_\n",
    "    \n",
    "    cluster1 = df[df.label == 0].drop('label', axis = 1)\n",
    "    cluster2 = df[df.label == 1].drop('label', axis = 1)\n",
    "    \n",
    "    u1 = np.array(cluster1.mean(axis = 0))\n",
    "    u2 = np.array(cluster2.mean(axis = 0))\n",
    "    \n",
    "    v1 = np.cov(cluster1.T)\n",
    "    v2 = np.cov(cluster2.T)\n",
    "\n",
    "    p = len(cluster1)/len(df)\n",
    "    return u1, u2, v1, v2, p\n",
    "a = km_est(df)"
   ]
  },
  {
   "cell_type": "code",
   "execution_count": 72,
   "metadata": {
    "collapsed": true
   },
   "outputs": [],
   "source": [
    "def MyGMkm(df1,k):\n",
    "    \n",
    "    df = df1.copy()\n",
    "    \n",
    "    u1, u2, v1, v2, p = km_est(df)\n",
    "\n",
    "    N = len(df)\n",
    "\n",
    "    c = []\n",
    "\n",
    "    e = 1\n",
    "\n",
    "    last = np.array([u1, u2])\n",
    "\n",
    "    max_iter = 20\n",
    "\n",
    "    n_iter = 0\n",
    "\n",
    "    while abs(e) > 0.005 and n_iter < max_iter:\n",
    "\n",
    "        #E steps\n",
    "\n",
    "        resp = []\n",
    "        for i in range(N):\n",
    "            y = df.iloc[i] \n",
    "            r = p*multi_n.pdf(y, u2, v2)/((1 - p)*multi_n.pdf(y, u1, v1) + \n",
    "                                      p*multi_n.pdf(y, u2, v2))\n",
    "\n",
    "            resp.append(r)\n",
    "\n",
    "        resp = np.array(resp)\n",
    "\n",
    "        #M steps\n",
    "\n",
    "        u1 = product(1 - resp, df)/np.sum(1 - resp)\n",
    "        v1 = product(1 - resp, (df - u1)**2)/np.sum(1 - resp)\n",
    "\n",
    "        u2 = product(resp, df)/np.sum(resp)\n",
    "        v2 = product(resp, (df - u1)**2)/np.sum(resp)\n",
    "\n",
    "        p = np.sum(resp)/N\n",
    "\n",
    "        c.append([u1, u2, v1, v2])\n",
    "\n",
    "        e = np.sum(last - np.array([u1, u2]))\n",
    "\n",
    "        last = np.array([u1, u2])\n",
    "        n_iter += 1\n",
    "\n",
    "    return c, n_iter\n",
    "\n",
    "km_path , n = MyGMkm(df,2)"
   ]
  },
  {
   "cell_type": "code",
   "execution_count": 74,
   "metadata": {},
   "outputs": [
    {
     "data": {
      "image/png": "[encoded data removed]",
      "text/plain": [
       "<matplotlib.figure.Figure at 0x11a193320>"
      ]
     },
     "metadata": {},
     "output_type": "display_data"
    }
   ],
   "source": [
    "plt.figure(figsize = (12,8))\n",
    "\n",
    "plt.scatter(df.eruptions, df.waiting, s= 15, c = 'grey')\n",
    "plt.xlabel('Eruptions')\n",
    "plt.ylabel('waiting')\n",
    "\n",
    "size = 30\n",
    "for z in km_path:\n",
    "    plt.scatter(z[0][0], z[0][1], s = size , c = 'red', edgecolors= 'black')\n",
    "    plt.scatter(z[1][0], z[1][1],  s = size ,c = 'green', edgecolors= 'black')\n",
    "    size += 15"
   ]
  },
  {
   "cell_type": "code",
   "execution_count": 77,
   "metadata": {},
   "outputs": [
    {
     "data": {
      "text/plain": [
       "<matplotlib.text.Text at 0x11a08f668>"
      ]
     },
     "execution_count": 77,
     "metadata": {},
     "output_type": "execute_result"
    },
    {
     "data": {
      "image/png": "[encoded data removed]",
      "text/plain": [
       "<matplotlib.figure.Figure at 0x119c7f860>"
      ]
     },
     "metadata": {},
     "output_type": "display_data"
    }
   ],
   "source": [
    "plt.figure(figsize = (10,8))\n",
    "iter_dist = list(map(lambda x: MyGMkm(df,2)[1], list(range(50))))\n",
    "sns.distplot(iter_dist, bins = 10)\n",
    "plt.xlabel('Number of iterations')"
   ]
  },
  {
   "cell_type": "code",
   "execution_count": null,
   "metadata": {
    "collapsed": true
   },
   "outputs": [],
   "source": []
  }
 ],
 "metadata": {
  "kernelspec": {
   "display_name": "Python 3",
   "language": "python",
   "name": "python3"
  },
  "language_info": {
   "codemirror_mode": {
    "name": "ipython",
    "version": 3
   },
   "file_extension": ".py",
   "mimetype": "text/x-python",
   "name": "python",
   "nbconvert_exporter": "python",
   "pygments_lexer": "ipython3",
   "version": "3.6.1"
  }
 },
 "nbformat": 4,
 "nbformat_minor": 2
}
