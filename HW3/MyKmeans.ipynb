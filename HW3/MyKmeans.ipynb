{
 "cells": [
  {
   "cell_type": "code",
   "execution_count": 1,
   "metadata": {
    "collapsed": true
   },
   "outputs": [],
   "source": [
    "import numpy as np\n",
    "import pandas as pd\n",
    "import warnings\n",
    "warnings.filterwarnings(\"ignore\")"
   ]
  },
  {
   "cell_type": "code",
   "execution_count": 2,
   "metadata": {},
   "outputs": [
    {
     "data": {
      "text/plain": [
       "(1373, 5476)"
      ]
     },
     "execution_count": 2,
     "metadata": {},
     "output_type": "execute_result"
    }
   ],
   "source": [
    "s2k = np.load(\"data/science2k-doc-word.npy\")\n",
    "s2k.shape"
   ]
  },
  {
   "cell_type": "code",
   "execution_count": 3,
   "metadata": {
    "collapsed": true
   },
   "outputs": [],
   "source": [
    "s2k = pd.DataFrame(s2k)"
   ]
  },
  {
   "cell_type": "code",
   "execution_count": 4,
   "metadata": {},
   "outputs": [
    {
     "data": {
      "text/plain": [
       "-2.0804930000000001"
      ]
     },
     "execution_count": 4,
     "metadata": {},
     "output_type": "execute_result"
    }
   ],
   "source": [
    "min(s2k.apply(min))"
   ]
  },
  {
   "cell_type": "code",
   "execution_count": 5,
   "metadata": {
    "collapsed": true
   },
   "outputs": [],
   "source": [
    "## smoothing\n",
    "s2k = s2k + 3\n",
    "\n",
    "## log\n",
    "s2k = np.log(s2k)\n",
    "\n",
    "## center\n",
    "s2k = s2k - np.mean(s2k, axis = 0)"
   ]
  },
  {
   "cell_type": "markdown",
   "metadata": {},
   "source": [
    "##### k-means"
   ]
  },
  {
   "cell_type": "code",
   "execution_count": 6,
   "metadata": {
    "collapsed": true
   },
   "outputs": [],
   "source": [
    "## set intial points\n",
    "def initial(df, k):\n",
    "    X = np.random.randint(0,1373, k)\n",
    "    return [df.iloc[a] for a in X]"
   ]
  },
  {
   "cell_type": "code",
   "execution_count": 7,
   "metadata": {
    "collapsed": true
   },
   "outputs": [],
   "source": [
    "## find the distance to each class\n",
    "from scipy.spatial.distance import cdist\n",
    "\n",
    "def dist_to_class(df1,I):\n",
    "    df = df1.copy()\n",
    "    \n",
    "    k = len(I)\n",
    "    dis_m = pd.DataFrame(np.zeros([len(df),1]))\n",
    "    for i, x in enumerate(I):\n",
    "        dis = cdist(df, x.reshape(1,-1), 'euclidean')\n",
    "        exec(\"dis_m[str(i)] = dis\")\n",
    "    dis_m.drop(0, axis = 1, inplace = True)\n",
    "    dis_m['label'] = dis_m.apply(np.argmin, axis = 1)\n",
    "    df['label'] = dis_m['label']\n",
    "    return df"
   ]
  },
  {
   "cell_type": "code",
   "execution_count": 8,
   "metadata": {
    "collapsed": true
   },
   "outputs": [],
   "source": [
    "def new_center(df):\n",
    "    X = df.groupby('label').mean()\n",
    "    return X\n",
    "\n",
    "def reIter(df, num_of_iter = 30):\n",
    "    for i in range(num_of_iter):\n",
    "        \n",
    "        new_centers = new_center(df)\n",
    "\n",
    "        d = df.drop('label', axis = 1)\n",
    "\n",
    "        df = dist_to_class(d, np.array(new_centers))\n",
    "    \n",
    "    return df"
   ]
  },
  {
   "cell_type": "code",
   "execution_count": 9,
   "metadata": {
    "collapsed": true
   },
   "outputs": [],
   "source": [
    "def myKmeans(df, k, num_iter = 20):\n",
    "    I = initial(df, 2)\n",
    "    dist_m = dist_to_class(df, I)\n",
    "    reIter(dist_m, num_iter)\n",
    "    return dist_m"
   ]
  },
  {
   "cell_type": "code",
   "execution_count": 22,
   "metadata": {
    "collapsed": true
   },
   "outputs": [],
   "source": [
    "def km_error(df1):\n",
    "    total_dis = 0\n",
    "    Z = np.array(new_center(df1))\n",
    "    for i, x in enumerate(Z):\n",
    "        df = df1.copy()\n",
    "        d = df[df.label == str(i)]\n",
    "        dis = cdist(d.drop('label', axis = 1), x.reshape(1,-1), 'euclidean')\n",
    "        total_dis += sum(dis)\n",
    "    return total_dis[0]"
   ]
  },
  {
   "cell_type": "code",
   "execution_count": 20,
   "metadata": {},
   "outputs": [
    {
     "name": "stdout",
     "output_type": "stream",
     "text": [
      "38596.4513772\n",
      "38177.9762393\n",
      "38603.4671499\n",
      "38339.3951205\n",
      "38566.8869778\n",
      "38545.0677375\n",
      "38572.2541302\n",
      "38605.343558\n",
      "38651.8040619\n",
      "38610.128106\n",
      "38605.4896759\n",
      "38249.3565735\n",
      "38652.2138978\n",
      "38683.0208105\n",
      "38602.9966506\n",
      "38571.0643626\n",
      "38581.7655601\n",
      "38666.1470702\n"
     ]
    }
   ],
   "source": [
    "for k in range(2,20):\n",
    "    result = myKmeans(s2k, k, 40)\n",
    "    print(km_error(result))"
   ]
  },
  {
   "cell_type": "code",
   "execution_count": 29,
   "metadata": {
    "collapsed": true
   },
   "outputs": [],
   "source": [
    "result = myKmeans(s2k, 10, 300)"
   ]
  },
  {
   "cell_type": "code",
   "execution_count": 30,
   "metadata": {},
   "outputs": [
    {
     "name": "stdout",
     "output_type": "stream",
     "text": [
      "38573.7588625\n"
     ]
    }
   ],
   "source": [
    "print(km_error(result))"
   ]
  },
  {
   "cell_type": "code",
   "execution_count": null,
   "metadata": {
    "collapsed": true
   },
   "outputs": [],
   "source": []
  }
 ],
 "metadata": {
  "kernelspec": {
   "display_name": "Python 3",
   "language": "python",
   "name": "python3"
  },
  "language_info": {
   "codemirror_mode": {
    "name": "ipython",
    "version": 3
   },
   "file_extension": ".py",
   "mimetype": "text/x-python",
   "name": "python",
   "nbconvert_exporter": "python",
   "pygments_lexer": "ipython3",
   "version": "3.6.1"
  }
 },
 "nbformat": 4,
 "nbformat_minor": 2
}
