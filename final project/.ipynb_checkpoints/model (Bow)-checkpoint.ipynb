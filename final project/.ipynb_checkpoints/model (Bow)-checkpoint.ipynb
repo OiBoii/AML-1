{
 "cells": [
  {
   "cell_type": "code",
   "execution_count": 1,
   "metadata": {
    "collapsed": true
   },
   "outputs": [],
   "source": [
    "import string\n",
    "import re\n",
    "from nltk import *\n",
    "from nltk.tokenize import sent_tokenize, word_tokenize\n",
    "from nltk.corpus import stopwords\n",
    "from nltk.stem import WordNetLemmatizer\n",
    "from nltk.stem.snowball import SnowballStemmer as SBS\n",
    "from nltk.stem.lancaster import LancasterStemmer as LS"
   ]
  },
  {
   "cell_type": "code",
   "execution_count": 2,
   "metadata": {
    "collapsed": true
   },
   "outputs": [],
   "source": [
    "import pandas as pd\n",
    "import numpy as np"
   ]
  },
  {
   "cell_type": "code",
   "execution_count": 17,
   "metadata": {},
   "outputs": [
    {
     "data": {
      "text/plain": [
       "'coupl guy eat food coupl men sit tabl pizza two men hold glass bear two pizza two men eat pizza rais glass toast two men hold beer side street'"
      ]
     },
     "execution_count": 17,
     "metadata": {},
     "output_type": "execute_result"
    }
   ],
   "source": [
    "sw = stopwords.words('english')\n",
    "def rmv(s, ls):\n",
    "    return list((filter(lambda s: s not in ls, s.split())))\n",
    "\n",
    "##Lemmatization \n",
    "def stm(s):\n",
    "    sb = SBS('english')\n",
    "    ls_stem = [sb.stem(word) for word in s]\n",
    "    return ls_stem\n",
    "\n",
    "def read_sent(path, i):\n",
    "    sent = []\n",
    "    for s in open(path + '/' + str(i) +'.txt'):\n",
    "        s = s.strip('\\n')\n",
    "        if s != '':\n",
    "            sent.append(s)\n",
    "    sents = ' '.join(sent)\n",
    "    punc = '[' + string.punctuation + ']'\n",
    "    sents = re.sub(punc, '', sents)\n",
    "    sents = sents.lower()\n",
    "    sents = rmv(sents, sw)\n",
    "    sents = stm(sents)\n",
    "    return ' '.join(sents)\n",
    "    \n",
    "read_sent('descriptions_train',768)"
   ]
  },
  {
   "cell_type": "code",
   "execution_count": 18,
   "metadata": {},
   "outputs": [
    {
     "data": {
      "text/html": [
       "<div>\n",
       "<style>\n",
       "    .dataframe thead tr:only-child th {\n",
       "        text-align: right;\n",
       "    }\n",
       "\n",
       "    .dataframe thead th {\n",
       "        text-align: left;\n",
       "    }\n",
       "\n",
       "    .dataframe tbody tr th {\n",
       "        vertical-align: top;\n",
       "    }\n",
       "</style>\n",
       "<table border=\"1\" class=\"dataframe\">\n",
       "  <thead>\n",
       "    <tr style=\"text-align: right;\">\n",
       "      <th></th>\n",
       "      <th>0</th>\n",
       "    </tr>\n",
       "  </thead>\n",
       "  <tbody>\n",
       "    <tr>\n",
       "      <th>0</th>\n",
       "      <td>skateboard put show use picnic tabl stage skat...</td>\n",
       "    </tr>\n",
       "    <tr>\n",
       "      <th>1</th>\n",
       "      <td>bowl soup carrot shrimp noodl healthi food bow...</td>\n",
       "    </tr>\n",
       "    <tr>\n",
       "      <th>2</th>\n",
       "      <td>man walk across street busi intersect ice crea...</td>\n",
       "    </tr>\n",
       "    <tr>\n",
       "      <th>3</th>\n",
       "      <td>young boy throw frisbe grassi field young boy ...</td>\n",
       "    </tr>\n",
       "    <tr>\n",
       "      <th>4</th>\n",
       "      <td>young child yard hold bat boy rare back baseba...</td>\n",
       "    </tr>\n",
       "  </tbody>\n",
       "</table>\n",
       "</div>"
      ],
      "text/plain": [
       "                                                   0\n",
       "0  skateboard put show use picnic tabl stage skat...\n",
       "1  bowl soup carrot shrimp noodl healthi food bow...\n",
       "2  man walk across street busi intersect ice crea...\n",
       "3  young boy throw frisbe grassi field young boy ...\n",
       "4  young child yard hold bat boy rare back baseba..."
      ]
     },
     "execution_count": 18,
     "metadata": {},
     "output_type": "execute_result"
    }
   ],
   "source": [
    "def to_df(path, I):\n",
    "    m = []\n",
    "    for i in range(I):\n",
    "        m.append(read_sent(path, i))\n",
    "    return pd.DataFrame(m)\n",
    "des_train = to_df('descriptions_train', 10000)\n",
    "des_train.head()"
   ]
  },
  {
   "cell_type": "code",
   "execution_count": 19,
   "metadata": {},
   "outputs": [
    {
     "data": {
      "text/html": [
       "<div>\n",
       "<style>\n",
       "    .dataframe thead tr:only-child th {\n",
       "        text-align: right;\n",
       "    }\n",
       "\n",
       "    .dataframe thead th {\n",
       "        text-align: left;\n",
       "    }\n",
       "\n",
       "    .dataframe tbody tr th {\n",
       "        vertical-align: top;\n",
       "    }\n",
       "</style>\n",
       "<table border=\"1\" class=\"dataframe\">\n",
       "  <thead>\n",
       "    <tr style=\"text-align: right;\">\n",
       "      <th></th>\n",
       "      <th>0</th>\n",
       "    </tr>\n",
       "  </thead>\n",
       "  <tbody>\n",
       "    <tr>\n",
       "      <th>0</th>\n",
       "      <td>woman walk street past doorway woman walk past...</td>\n",
       "    </tr>\n",
       "    <tr>\n",
       "      <th>1</th>\n",
       "      <td>larg slice angel food cake sit top plate small...</td>\n",
       "    </tr>\n",
       "    <tr>\n",
       "      <th>2</th>\n",
       "      <td>group traffic light sit intersect sign shine s...</td>\n",
       "    </tr>\n",
       "    <tr>\n",
       "      <th>3</th>\n",
       "      <td>two mean uniform ride hors side side sandi bea...</td>\n",
       "    </tr>\n",
       "    <tr>\n",
       "      <th>4</th>\n",
       "      <td>man woman use pay phone adjac booth adult use ...</td>\n",
       "    </tr>\n",
       "  </tbody>\n",
       "</table>\n",
       "</div>"
      ],
      "text/plain": [
       "                                                   0\n",
       "0  woman walk street past doorway woman walk past...\n",
       "1  larg slice angel food cake sit top plate small...\n",
       "2  group traffic light sit intersect sign shine s...\n",
       "3  two mean uniform ride hors side side sandi bea...\n",
       "4  man woman use pay phone adjac booth adult use ..."
      ]
     },
     "execution_count": 19,
     "metadata": {},
     "output_type": "execute_result"
    }
   ],
   "source": [
    "des_test = to_df('descriptions_test', 2000)\n",
    "des_test.head()"
   ]
  },
  {
   "cell_type": "markdown",
   "metadata": {},
   "source": [
    "#### Read Tags"
   ]
  },
  {
   "cell_type": "code",
   "execution_count": 20,
   "metadata": {},
   "outputs": [
    {
     "data": {
      "text/plain": [
       "('furnitur kitchen kitchen food kitchen electron person',\n",
       " 'dine tabl fork knife pizza wine glass cell phone person')"
      ]
     },
     "execution_count": 20,
     "metadata": {},
     "output_type": "execute_result"
    }
   ],
   "source": [
    "def read_tag(path, i):\n",
    "    cate = []\n",
    "    tag = []\n",
    "    for t in open(path + '/' + str(i) +'.txt'):\n",
    "        t = t.strip('\\n')\n",
    "        if t != '':\n",
    "            t1, t2 = t.split(':')\n",
    "            cate.append(t1)\n",
    "            tag.append(t2.split())\n",
    "    tag = sum(tag, [])\n",
    "    cate = ' '.join(stm(cate))\n",
    "    tag = ' '.join(stm(tag))\n",
    "    return cate, tag\n",
    "read_tag('tags_test', 107)"
   ]
  },
  {
   "cell_type": "code",
   "execution_count": 131,
   "metadata": {
    "collapsed": true
   },
   "outputs": [],
   "source": [
    "cate_all = []\n",
    "tag_all = []\n",
    "cate_ls_train = []\n",
    "tag_ls_train = []\n",
    "\n",
    "for i in range(10000):\n",
    "    cate, tag = read_tag('tags_train', i)\n",
    "    cate_all.append(cate)\n",
    "    tag_all.append(tag)\n",
    "    tag_ls_train.append(tag)\n",
    "    cate_ls_train.append(cate)"
   ]
  },
  {
   "cell_type": "code",
   "execution_count": 132,
   "metadata": {},
   "outputs": [],
   "source": [
    "tag_train = pd.DataFrame(tag_ls_train)\n",
    "cate_train = pd.DataFrame(cate_ls_train)"
   ]
  },
  {
   "cell_type": "code",
   "execution_count": 133,
   "metadata": {},
   "outputs": [
    {
     "data": {
      "text/html": [
       "<div>\n",
       "<style>\n",
       "    .dataframe thead tr:only-child th {\n",
       "        text-align: right;\n",
       "    }\n",
       "\n",
       "    .dataframe thead th {\n",
       "        text-align: left;\n",
       "    }\n",
       "\n",
       "    .dataframe tbody tr th {\n",
       "        vertical-align: top;\n",
       "    }\n",
       "</style>\n",
       "<table border=\"1\" class=\"dataframe\">\n",
       "  <thead>\n",
       "    <tr style=\"text-align: right;\">\n",
       "      <th></th>\n",
       "      <th>0</th>\n",
       "    </tr>\n",
       "  </thead>\n",
       "  <tbody>\n",
       "    <tr>\n",
       "      <th>0</th>\n",
       "      <td>airplan bench skateboard person truck backpack...</td>\n",
       "    </tr>\n",
       "    <tr>\n",
       "      <th>1</th>\n",
       "      <td>bowl carrot spoon</td>\n",
       "    </tr>\n",
       "    <tr>\n",
       "      <th>2</th>\n",
       "      <td>car truck traffic light person</td>\n",
       "    </tr>\n",
       "    <tr>\n",
       "      <th>3</th>\n",
       "      <td>person bench frisbe car</td>\n",
       "    </tr>\n",
       "    <tr>\n",
       "      <th>4</th>\n",
       "      <td>person basebal bat</td>\n",
       "    </tr>\n",
       "  </tbody>\n",
       "</table>\n",
       "</div>"
      ],
      "text/plain": [
       "                                                   0\n",
       "0  airplan bench skateboard person truck backpack...\n",
       "1                                  bowl carrot spoon\n",
       "2                     car truck traffic light person\n",
       "3                            person bench frisbe car\n",
       "4                                 person basebal bat"
      ]
     },
     "execution_count": 133,
     "metadata": {},
     "output_type": "execute_result"
    }
   ],
   "source": [
    "tag_train.head(5)"
   ]
  },
  {
   "cell_type": "code",
   "execution_count": 134,
   "metadata": {
    "collapsed": true
   },
   "outputs": [],
   "source": [
    "tag_ls_test = []\n",
    "cate_ls_test = []\n",
    "\n",
    "for i in range(2000):\n",
    "    cate, tag = read_tag('tags_test', i)\n",
    "    tag_ls_test.append(tag)\n",
    "    cate_ls_test.append(cate)\n",
    "tag_test = pd.DataFrame(tag_ls_test)\n",
    "cate_test = pd.DataFrame(cate_ls_test)"
   ]
  },
  {
   "cell_type": "code",
   "execution_count": 135,
   "metadata": {},
   "outputs": [
    {
     "data": {
      "text/html": [
       "<div>\n",
       "<style>\n",
       "    .dataframe thead tr:only-child th {\n",
       "        text-align: right;\n",
       "    }\n",
       "\n",
       "    .dataframe thead th {\n",
       "        text-align: left;\n",
       "    }\n",
       "\n",
       "    .dataframe tbody tr th {\n",
       "        vertical-align: top;\n",
       "    }\n",
       "</style>\n",
       "<table border=\"1\" class=\"dataframe\">\n",
       "  <thead>\n",
       "    <tr style=\"text-align: right;\">\n",
       "      <th></th>\n",
       "      <th>0</th>\n",
       "    </tr>\n",
       "  </thead>\n",
       "  <tbody>\n",
       "    <tr>\n",
       "      <th>0</th>\n",
       "      <td>vehicl outdoor sport person vehicl accessori a...</td>\n",
       "    </tr>\n",
       "    <tr>\n",
       "      <th>1</th>\n",
       "      <td>kitchen food kitchen</td>\n",
       "    </tr>\n",
       "    <tr>\n",
       "      <th>2</th>\n",
       "      <td>vehicl vehicl outdoor person</td>\n",
       "    </tr>\n",
       "    <tr>\n",
       "      <th>3</th>\n",
       "      <td>person outdoor sport vehicl</td>\n",
       "    </tr>\n",
       "    <tr>\n",
       "      <th>4</th>\n",
       "      <td>person sport</td>\n",
       "    </tr>\n",
       "  </tbody>\n",
       "</table>\n",
       "</div>"
      ],
      "text/plain": [
       "                                                   0\n",
       "0  vehicl outdoor sport person vehicl accessori a...\n",
       "1                               kitchen food kitchen\n",
       "2                       vehicl vehicl outdoor person\n",
       "3                        person outdoor sport vehicl\n",
       "4                                       person sport"
      ]
     },
     "execution_count": 135,
     "metadata": {},
     "output_type": "execute_result"
    }
   ],
   "source": [
    "cate_train.head(5)"
   ]
  },
  {
   "cell_type": "markdown",
   "metadata": {},
   "source": [
    "#### Bag of words"
   ]
  },
  {
   "cell_type": "code",
   "execution_count": 136,
   "metadata": {},
   "outputs": [],
   "source": [
    "## dictionary\n",
    "\n",
    "dic_tag = np.array(list(set(' '.join(tag_train[0]).split())))\n",
    "dic_des = np.array(list(set(' '.join(des_train[0]).split())))\n",
    "dic_cate = np.array(list(set(' '.join(cate_train[0]).split())))"
   ]
  },
  {
   "cell_type": "code",
   "execution_count": 137,
   "metadata": {},
   "outputs": [
    {
     "name": "stdout",
     "output_type": "stream",
     "text": [
      "cate:  12\n",
      "tag:  92\n",
      "des:  6669\n"
     ]
    }
   ],
   "source": [
    "print('cate: ', len(dic_cate))\n",
    "print('tag: ', len(dic_tag))\n",
    "print('des: ', len(dic_des))"
   ]
  },
  {
   "cell_type": "code",
   "execution_count": 138,
   "metadata": {},
   "outputs": [],
   "source": [
    "def bag(s,dic):\n",
    "    a = s.split()\n",
    "    v = np.sum([dic == w for w in a],axis=0)\n",
    "    if type(v) == np.float64:\n",
    "        return [0]*len(dic)\n",
    "    else:\n",
    "        return v"
   ]
  },
  {
   "cell_type": "code",
   "execution_count": 139,
   "metadata": {},
   "outputs": [],
   "source": [
    "tag_train['vector'] = tag_train[0].apply(lambda x: bag(x, dic_tag))\n",
    "tag_test['vector'] = tag_test[0].apply(lambda x: bag(x, dic_tag))\n",
    "cate_train['vector'] = cate_train[0].apply(lambda x: bag(x, dic_cate))\n",
    "cate_test['vector'] = cate_test[0].apply(lambda x: bag(x, dic_cate))\n",
    "des_train['vector'] = des_train[0].apply(lambda x: bag(x, dic_des))\n",
    "des_test['vector'] = des_test[0].apply(lambda x: bag(x, dic_des))"
   ]
  },
  {
   "cell_type": "code",
   "execution_count": 140,
   "metadata": {},
   "outputs": [],
   "source": [
    "##tf-idf\n",
    "from sklearn.feature_extraction.text import TfidfTransformer\n",
    "transformer = TfidfTransformer(smooth_idf = False)"
   ]
  },
  {
   "cell_type": "code",
   "execution_count": 141,
   "metadata": {},
   "outputs": [],
   "source": [
    "def trans_tfidf(df):\n",
    "    counts = list(df['vector'])\n",
    "    tfidf = transformer.fit_transform(counts)\n",
    "    return tfidf.toarray()"
   ]
  },
  {
   "cell_type": "code",
   "execution_count": 142,
   "metadata": {},
   "outputs": [],
   "source": [
    "tag_train_tfidf = trans_tfidf(tag_train)\n",
    "tag_test_tfidf = trans_tfidf(tag_test)\n",
    "cate_train_tfidf = trans_tfidf(cate_train)\n",
    "cate_test_tfidf = trans_tfidf(cate_train)\n",
    "des_train_tfidf = trans_tfidf(des_train)\n",
    "des_test_tfidf = trans_tfidf(des_train)"
   ]
  },
  {
   "cell_type": "code",
   "execution_count": null,
   "metadata": {
    "collapsed": true
   },
   "outputs": [],
   "source": []
  }
 ],
 "metadata": {
  "kernelspec": {
   "display_name": "Python 3",
   "language": "python",
   "name": "python3"
  },
  "language_info": {
   "codemirror_mode": {
    "name": "ipython",
    "version": 3
   },
   "file_extension": ".py",
   "mimetype": "text/x-python",
   "name": "python",
   "nbconvert_exporter": "python",
   "pygments_lexer": "ipython3",
   "version": "3.6.1"
  }
 },
 "nbformat": 4,
 "nbformat_minor": 2
}
